{
 "cells": [
  {
   "cell_type": "code",
   "execution_count": 2,
   "metadata": {},
   "outputs": [],
   "source": [
    "import numpy as np\n",
    "import pandas as pd\n",
    "from statsmodels.tsa.stattools import adfuller, grangercausalitytests\n",
    "from itertools import combinations"
   ]
  },
  {
   "cell_type": "markdown",
   "metadata": {},
   "source": [
    "Load and preprocess the dataset"
   ]
  },
  {
   "cell_type": "code",
   "execution_count": null,
   "metadata": {},
   "outputs": [],
   "source": [
    "path = 'C:/Users/natha/OneDrive/Bureau/Interview trainings/Coding/Aquatic/Weather_Forecast_Ideas/data/chicago_beach_weather.csv'\n",
    "df = pd.read_csv(path)\n",
    "\n",
    "df['Measurement Timestamp'] = pd.to_datetime(df['Measurement Timestamp'], format='%m/%d/%Y %I:%M:%S %p')\n",
    "stations = df['Station Name'].unique()\n",
    "station_data = {station: df[df['Station Name'] == station].copy() for station in stations}\n",
    "\n",
    "for station, data in station_data.items():\n",
    "    data.set_index('Measurement Timestamp', inplace=True)\n",
    "    data = data.asfreq('H')\n",
    "    data['Air Temperature'].fillna(method='ffill', inplace=True)\n",
    "    station_data[station] = data['Air Temperature']"
   ]
  },
  {
   "cell_type": "markdown",
   "metadata": {},
   "source": [
    "Perform ADF test for stationarity"
   ]
  },
  {
   "cell_type": "code",
   "execution_count": 4,
   "metadata": {},
   "outputs": [
    {
     "name": "stdout",
     "output_type": "stream",
     "text": [
      "Station: 63rd Street Weather Station\n",
      "ADF Statistic: -3.555596741943997\n",
      "p-value: 0.006668917739446431\n",
      "Critical Value (1%): -3.43109790993778\n",
      "Critical Value (5%): -2.861870526484161\n",
      "Critical Value (10%): -2.566945934275714\n",
      "The time series for 63rd Street Weather Station is likely stationary (p-value < 0.01).\n",
      "\n",
      "Station: Oak Street Weather Station\n",
      "ADF Statistic: -3.523785179153752\n",
      "p-value: 0.007396843807650962\n",
      "Critical Value (1%): -3.43109790993778\n",
      "Critical Value (5%): -2.861870526484161\n",
      "Critical Value (10%): -2.566945934275714\n",
      "The time series for Oak Street Weather Station is likely stationary (p-value < 0.01).\n",
      "\n",
      "Station: Foster Weather Station\n",
      "ADF Statistic: -3.518918752716674\n",
      "p-value: 0.00751430787694948\n",
      "Critical Value (1%): -3.43109790993778\n",
      "Critical Value (5%): -2.861870526484161\n",
      "Critical Value (10%): -2.566945934275714\n",
      "The time series for Foster Weather Station is likely stationary (p-value < 0.01).\n",
      "\n"
     ]
    }
   ],
   "source": [
    "for station, series in station_data.items():\n",
    "    adf_result = adfuller(series.dropna())\n",
    "    print(f'Station: {station}')\n",
    "    print(f'ADF Statistic: {adf_result[0]}')\n",
    "    print(f'p-value: {adf_result[1]}')\n",
    "    for key, value in adf_result[4].items():\n",
    "        print(f'Critical Value ({key}): {value}')\n",
    "    \n",
    "    if adf_result[1] < 0.01:\n",
    "        print(f\"The time series for {station} is likely stationary (p-value < 0.01).\\n\")\n",
    "    else:\n",
    "        print(f\"The time series for {station} is likely non-stationary (p-value >= 0.01).\\n\")"
   ]
  },
  {
   "cell_type": "markdown",
   "metadata": {},
   "source": [
    "Calculate correlation between each pair of stations"
   ]
  },
  {
   "cell_type": "code",
   "execution_count": 6,
   "metadata": {},
   "outputs": [
    {
     "name": "stdout",
     "output_type": "stream",
     "text": [
      "Correlation between 63rd Street Weather Station and Oak Street Weather Station: 0.9936\n",
      "Correlation between 63rd Street Weather Station and Foster Weather Station: 0.9943\n",
      "Correlation between Oak Street Weather Station and Foster Weather Station: 0.9963\n"
     ]
    }
   ],
   "source": [
    "for station1, station2 in combinations(station_data.keys(), 2):\n",
    "    series1 = station_data[station1]\n",
    "    series2 = station_data[station2]\n",
    "    \n",
    "    correlation = series1.corr(series2)\n",
    "    print(f\"Correlation between {station1} and {station2}: {correlation:.4f}\")"
   ]
  },
  {
   "cell_type": "markdown",
   "metadata": {},
   "source": [
    "Perform Granger causality tests"
   ]
  },
  {
   "cell_type": "code",
   "execution_count": 7,
   "metadata": {},
   "outputs": [
    {
     "name": "stdout",
     "output_type": "stream",
     "text": [
      "Testing Granger causality between 63rd Street Weather Station and Oak Street Weather Station\n",
      "Lag 1: p-value = 4.367481381522929e-83\n",
      "Granger causality found at lag 1 (p-value < 0.01) for 63rd Street Weather Station causing Oak Street Weather Station\n",
      "\n",
      "Lag 2: p-value = 1.2882992559624966e-215\n",
      "Granger causality found at lag 2 (p-value < 0.01) for 63rd Street Weather Station causing Oak Street Weather Station\n",
      "\n",
      "Lag 3: p-value = 2.0667821887004174e-211\n",
      "Granger causality found at lag 3 (p-value < 0.01) for 63rd Street Weather Station causing Oak Street Weather Station\n",
      "\n",
      "Lag 4: p-value = 8.0982410741597e-211\n",
      "Granger causality found at lag 4 (p-value < 0.01) for 63rd Street Weather Station causing Oak Street Weather Station\n",
      "\n",
      "Lag 5: p-value = 2.3526604698100863e-209\n",
      "Granger causality found at lag 5 (p-value < 0.01) for 63rd Street Weather Station causing Oak Street Weather Station\n",
      "\n",
      "Testing Granger causality between 63rd Street Weather Station and Foster Weather Station\n",
      "Lag 1: p-value = 2.6107734424116503e-92\n",
      "Granger causality found at lag 1 (p-value < 0.01) for 63rd Street Weather Station causing Foster Weather Station\n",
      "\n",
      "Lag 2: p-value = 5.131778916457505e-258\n",
      "Granger causality found at lag 2 (p-value < 0.01) for 63rd Street Weather Station causing Foster Weather Station\n",
      "\n",
      "Lag 3: p-value = 6.43569904641651e-248\n",
      "Granger causality found at lag 3 (p-value < 0.01) for 63rd Street Weather Station causing Foster Weather Station\n",
      "\n",
      "Lag 4: p-value = 7.615728738540891e-246\n",
      "Granger causality found at lag 4 (p-value < 0.01) for 63rd Street Weather Station causing Foster Weather Station\n",
      "\n",
      "Lag 5: p-value = 2.7432089128415832e-244\n",
      "Granger causality found at lag 5 (p-value < 0.01) for 63rd Street Weather Station causing Foster Weather Station\n",
      "\n",
      "Testing Granger causality between Oak Street Weather Station and Foster Weather Station\n",
      "Lag 1: p-value = 7.720479970100278e-75\n",
      "Granger causality found at lag 1 (p-value < 0.01) for Oak Street Weather Station causing Foster Weather Station\n",
      "\n",
      "Lag 2: p-value = 4.403945591094724e-172\n",
      "Granger causality found at lag 2 (p-value < 0.01) for Oak Street Weather Station causing Foster Weather Station\n",
      "\n",
      "Lag 3: p-value = 6.054474590703452e-181\n",
      "Granger causality found at lag 3 (p-value < 0.01) for Oak Street Weather Station causing Foster Weather Station\n",
      "\n",
      "Lag 4: p-value = 9.098073077740789e-179\n",
      "Granger causality found at lag 4 (p-value < 0.01) for Oak Street Weather Station causing Foster Weather Station\n",
      "\n",
      "Lag 5: p-value = 2.7408477125214834e-176\n",
      "Granger causality found at lag 5 (p-value < 0.01) for Oak Street Weather Station causing Foster Weather Station\n",
      "\n"
     ]
    },
    {
     "name": "stderr",
     "output_type": "stream",
     "text": [
      "C:\\Users\\natha\\AppData\\Roaming\\Python\\Python38\\site-packages\\statsmodels\\tsa\\stattools.py:1545: FutureWarning: verbose is deprecated since functions should not print results\n",
      "  warnings.warn(\n",
      "C:\\Users\\natha\\AppData\\Roaming\\Python\\Python38\\site-packages\\statsmodels\\tsa\\stattools.py:1545: FutureWarning: verbose is deprecated since functions should not print results\n",
      "  warnings.warn(\n",
      "C:\\Users\\natha\\AppData\\Roaming\\Python\\Python38\\site-packages\\statsmodels\\tsa\\stattools.py:1545: FutureWarning: verbose is deprecated since functions should not print results\n",
      "  warnings.warn(\n"
     ]
    }
   ],
   "source": [
    "max_lag = 5\n",
    "\n",
    "for station1, station2 in combinations(station_data.keys(), 2):\n",
    "    data = pd.concat([station_data[station1], station_data[station2]], axis=1)\n",
    "    data.columns = [station1, station2]\n",
    "    data.dropna(inplace=True)\n",
    "\n",
    "    print(f\"Testing Granger causality between {station1} and {station2}\")\n",
    "    try:\n",
    "        granger_test = grangercausalitytests(data, max_lag, verbose=False)\n",
    "        \n",
    "        for lag in range(1, max_lag + 1):\n",
    "            f_test_pvalue = granger_test[lag][0]['ssr_ftest'][1]\n",
    "            print(f\"Lag {lag}: p-value = {f_test_pvalue}\")\n",
    "            if f_test_pvalue < 0.01:\n",
    "                print(f\"Granger causality found at lag {lag} (p-value < 0.01) for {station1} causing {station2}\\n\")\n",
    "            else:\n",
    "                print(f\"No Granger causality at lag {lag} for {station1} causing {station2}\\n\")\n",
    "    except Exception as e:\n",
    "        print(f\"Granger causality test failed between {station1} and {station2} due to: {e}\\n\")"
   ]
  }
 ],
 "metadata": {
  "kernelspec": {
   "display_name": "Python 3",
   "language": "python",
   "name": "python3"
  },
  "language_info": {
   "codemirror_mode": {
    "name": "ipython",
    "version": 3
   },
   "file_extension": ".py",
   "mimetype": "text/x-python",
   "name": "python",
   "nbconvert_exporter": "python",
   "pygments_lexer": "ipython3",
   "version": "3.8.2"
  }
 },
 "nbformat": 4,
 "nbformat_minor": 2
}
